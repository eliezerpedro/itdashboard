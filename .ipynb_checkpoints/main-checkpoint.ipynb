{
 "cells": [
  {
   "cell_type": "code",
   "execution_count": null,
   "id": "ffed0194-6cc0-45da-84b9-d1d6ce249ba1",
   "metadata": {},
   "outputs": [],
   "source": [
    "from itdashboard import Itdashboard\n",
    "import pandas as pd\n",
    "\n",
    "itdashboard = Itdashboard()"
   ]
  },
  {
   "cell_type": "code",
   "execution_count": null,
   "id": "372183e5-5635-4b91-ab6d-814ed57b0eda",
   "metadata": {},
   "outputs": [],
   "source": [
    "df_agencias = itdashboard.get_agencys()"
   ]
  },
  {
   "cell_type": "code",
   "execution_count": null,
   "id": "f7970921-298f-42bc-a3c8-d3e3d192b164",
   "metadata": {},
   "outputs": [],
   "source": [
    "choose_agency = 'Department of Commerce'\n",
    "df_spending = itdashboard.get_individual_spendings(choose_agency)"
   ]
  },
  {
   "cell_type": "code",
   "execution_count": null,
   "id": "e4604a72-c418-4677-8cb3-749eaf6d2d73",
   "metadata": {},
   "outputs": [],
   "source": [
    "itdashboard.save_excel(df_agencias, df_spending)"
   ]
  },
  {
   "cell_type": "code",
   "execution_count": null,
   "id": "5fa81aa2-048c-44d0-8d93-4d8dfff8fb5e",
   "metadata": {},
   "outputs": [],
   "source": [
    "df_links = pd.read_csv('links.csv')\n",
    "itdashboard.download_business_cases(df_links)"
   ]
  },
  {
   "cell_type": "code",
   "execution_count": null,
   "id": "6a9debcf-2cd0-4abb-9647-b03996f74e1e",
   "metadata": {},
   "outputs": [],
   "source": []
  },
  {
   "cell_type": "code",
   "execution_count": null,
   "id": "70d06934-2838-4a4a-b9e4-b1a130e34422",
   "metadata": {},
   "outputs": [],
   "source": [
    "from main import *"
   ]
  }
 ],
 "metadata": {
  "kernelspec": {
   "display_name": "Python 3 (ipykernel)",
   "language": "python",
   "name": "python3"
  },
  "language_info": {
   "codemirror_mode": {
    "name": "ipython",
    "version": 3
   },
   "file_extension": ".py",
   "mimetype": "text/x-python",
   "name": "python",
   "nbconvert_exporter": "python",
   "pygments_lexer": "ipython3",
   "version": "3.10.4"
  }
 },
 "nbformat": 4,
 "nbformat_minor": 5
}
