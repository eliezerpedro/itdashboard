{
 "cells": [
  {
   "cell_type": "code",
   "execution_count": null,
   "id": "ffed0194-6cc0-45da-84b9-d1d6ce249ba1",
   "metadata": {},
   "outputs": [],
   "source": [
    "from itdashboard import Itdashboard\n",
    "import pandas as pd\n",
    "\n",
    "itdashboard = Itdashboard()"
   ]
  },
  {
   "cell_type": "code",
   "execution_count": null,
   "id": "372183e5-5635-4b91-ab6d-814ed57b0eda",
   "metadata": {},
   "outputs": [],
   "source": [
    "df_agencias = itdashboard.get_agencys()"
   ]
  },
  {
   "cell_type": "code",
   "execution_count": null,
   "id": "f7970921-298f-42bc-a3c8-d3e3d192b164",
   "metadata": {},
   "outputs": [],
   "source": [
    "choose_agency = 'Department of Commerce'\n",
    "df_spending = itdashboard.get_individual_spendings(choose_agency)"
   ]
  },
  {
   "cell_type": "code",
   "execution_count": null,
   "id": "e4604a72-c418-4677-8cb3-749eaf6d2d73",
   "metadata": {},
   "outputs": [],
   "source": [
    "itdashboard.save_excel(df_agencias, df_spending)"
   ]
  },
  {
   "cell_type": "code",
   "execution_count": null,
   "id": "5fa81aa2-048c-44d0-8d93-4d8dfff8fb5e",
   "metadata": {},
   "outputs": [],
   "source": [
    "df_links = pd.read_csv('links.csv')\n",
    "itdashboard.download_business_cases(df_links)"
   ]
  },
  {
   "cell_type": "code",
   "execution_count": null,
   "id": "6a9debcf-2cd0-4abb-9647-b03996f74e1e",
   "metadata": {},
   "outputs": [],
   "source": []
  },
  {
   "cell_type": "code",
   "execution_count": 5,
   "id": "70d06934-2838-4a4a-b9e4-b1a130e34422",
   "metadata": {},
   "outputs": [
    {
     "name": "stdout",
     "output_type": "stream",
     "text": [
      "Colhendo dados da empresa Government-wide\n",
      "Colhendo dados da empresa Department of Agriculture\n",
      "Colhendo dados da empresa Department of Commerce\n",
      "Colhendo dados da empresa Department of Defense\n",
      "Colhendo dados da empresa Department of Education\n",
      "Colhendo dados da empresa Department of Energy\n",
      "Colhendo dados da empresa Department of Health and Human Services\n",
      "Colhendo dados da empresa Department of Homeland Security\n",
      "Colhendo dados da empresa Department of Housing and Urban Development\n",
      "Colhendo dados da empresa Department of Justice\n",
      "Colhendo dados da empresa Department of Labor\n",
      "Colhendo dados da empresa Department of State\n",
      "Colhendo dados da empresa Department of Transportation\n",
      "Colhendo dados da empresa Department of Veterans Affairs\n",
      "Colhendo dados da empresa Department of the Interior\n",
      "Colhendo dados da empresa Department of the Treasury\n",
      "Colhendo dados da empresa Environmental Protection Agency\n",
      "Colhendo dados da empresa General Services Administration\n",
      "Colhendo dados da empresa National Aeronautics and Space Administration\n",
      "Colhendo dados da empresa National Archives and Records Administration\n",
      "Colhendo dados da empresa National Science Foundation\n",
      "Colhendo dados da empresa Nuclear Regulatory Commission\n",
      "Colhendo dados da empresa Office of Personnel Management\n",
      "Colhendo dados da empresa Small Business Administration\n",
      "Colhendo dados da empresa Social Security Administration\n",
      "Colhendo dados da empresa U.S. Agency for International Development\n",
      "Colhendo dados da empresa U.S. Army Corps of Engineers\n",
      "Página 1. Linha 1 de 5\n",
      "Página 2. Linha 2 de 5\n",
      "Página 3. Linha 3 de 5\n",
      "Página 4. Linha 4 de 5\n",
      "Página 5. Linha 5 de 5\n",
      "baixando arquivo 0. Linha 1 de 23\n"
     ]
    },
    {
     "name": "stderr",
     "output_type": "stream",
     "text": [
      "C:\\Users\\epvj\\Documents\\prime\\itdashboard\\itdashboard.py:140: SettingWithCopyWarning: \n",
      "A value is trying to be set on a copy of a slice from a DataFrame\n",
      "\n",
      "See the caveats in the documentation: https://pandas.pydata.org/pandas-docs/stable/user_guide/indexing.html#returning-a-view-versus-a-copy\n",
      "  df_links['Check'][index] = 'Baixado' #marca o link como baixado\n"
     ]
    },
    {
     "name": "stdout",
     "output_type": "stream",
     "text": [
      "baixando arquivo 1. Linha 2 de 23\n",
      "baixando arquivo 2. Linha 3 de 23\n",
      "baixando arquivo 3. Linha 4 de 23\n",
      "baixando arquivo 4. Linha 5 de 23\n",
      "baixando arquivo 5. Linha 6 de 23\n",
      "baixando arquivo 6. Linha 7 de 23\n",
      "baixando arquivo 7. Linha 8 de 23\n",
      "baixando arquivo 8. Linha 9 de 23\n",
      "baixando arquivo 9. Linha 10 de 23\n",
      "baixando arquivo 10. Linha 11 de 23\n",
      "baixando arquivo 11. Linha 12 de 23\n",
      "baixando arquivo 12. Linha 13 de 23\n",
      "baixando arquivo 13. Linha 14 de 23\n",
      "baixando arquivo 14. Linha 15 de 23\n",
      "baixando arquivo 15. Linha 16 de 23\n",
      "baixando arquivo 16. Linha 17 de 23\n",
      "baixando arquivo 17. Linha 18 de 23\n",
      "baixando arquivo 18. Linha 19 de 23\n",
      "baixando arquivo 19. Linha 20 de 23\n",
      "baixando arquivo 20. Linha 21 de 23\n",
      "baixando arquivo 21. Linha 22 de 23\n",
      "baixando arquivo 22. Linha 23 de 23\n"
     ]
    }
   ],
   "source": [
    "from main import *\n",
    "main()"
   ]
  },
  {
   "cell_type": "code",
   "execution_count": null,
   "id": "986284af-e51e-450d-9bad-96336e49481c",
   "metadata": {},
   "outputs": [],
   "source": []
  }
 ],
 "metadata": {
  "kernelspec": {
   "display_name": "Python 3 (ipykernel)",
   "language": "python",
   "name": "python3"
  },
  "language_info": {
   "codemirror_mode": {
    "name": "ipython",
    "version": 3
   },
   "file_extension": ".py",
   "mimetype": "text/x-python",
   "name": "python",
   "nbconvert_exporter": "python",
   "pygments_lexer": "ipython3",
   "version": "3.10.4"
  }
 },
 "nbformat": 4,
 "nbformat_minor": 5
}
